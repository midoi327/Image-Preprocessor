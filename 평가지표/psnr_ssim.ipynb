{
 "cells": [
  {
   "cell_type": "code",
   "execution_count": 1,
   "metadata": {},
   "outputs": [],
   "source": [
    "import os\n",
    "import torch\n",
    "import torch.nn as nn\n",
    "from PIL import Image\n",
    "from torchvision import transforms\n",
    "from piq import ssim\n"
   ]
  },
  {
   "cell_type": "code",
   "execution_count": 2,
   "metadata": {},
   "outputs": [],
   "source": [
    "def psnr(input, target, data_range=1.0):\n",
    "    mse = torch.mean((input - target) ** 2)\n",
    "    if mse == 0:\n",
    "        return float('inf')\n",
    "    return 10 * torch.log10((data_range ** 2) / mse)\n"
   ]
  },
  {
   "cell_type": "code",
   "execution_count": 3,
   "metadata": {},
   "outputs": [],
   "source": [
    "image_folder = '/home/piai/문서/miryeong/ImagePreprocessor/평가지표/image_folder'\n",
    "target_folder = '/home/piai/문서/miryeong/ImagePreprocessor/평가지표/target_folder' "
   ]
  },
  {
   "cell_type": "code",
   "execution_count": 10,
   "metadata": {},
   "outputs": [
    {
     "name": "stdout",
     "output_type": "stream",
     "text": [
      "image: /home/piai/문서/miryeong/ImagePreprocessor/평가지표/image_folder/saved_image1.png\n",
      "psnr: tensor(9.9312)\n",
      "ssim: tensor(0.4726)\n",
      "saved_image1.png - PSNR : 9.931161880493164 SSIM: 0.47263702750205994\n",
      "image: /home/piai/문서/miryeong/ImagePreprocessor/평가지표/image_folder/saved_image2.png\n",
      "psnr: tensor(16.8851)\n",
      "ssim: tensor(0.8017)\n",
      "saved_image2.png - PSNR : 16.88507652282715 SSIM: 0.801703929901123\n",
      "image: /home/piai/문서/miryeong/ImagePreprocessor/평가지표/image_folder/saved_image3.png\n",
      "psnr: tensor(13.6991)\n",
      "ssim: tensor(0.7680)\n",
      "saved_image3.png - PSNR : 13.699102401733398 SSIM: 0.7680030465126038\n",
      "image: /home/piai/문서/miryeong/ImagePreprocessor/평가지표/image_folder/saved_image4.png\n",
      "psnr: tensor(10.6904)\n",
      "ssim: tensor(0.6605)\n",
      "saved_image4.png - PSNR : 10.690431594848633 SSIM: 0.6604847311973572\n",
      "Average - PSNR : 12.801443099975586 SSIM: 0.675707221031189\n"
     ]
    }
   ],
   "source": [
    "image_files = [os.path.join(image_folder, file) \n",
    "               for file in os.listdir(image_folder) \n",
    "               if file.lower().endswith(('.png', '.jpg', '.jpeg', '.bmp'))]\n",
    "\n",
    "psnr_list = []\n",
    "ssim_list = []\n",
    "\n",
    "preprocess = transforms.Compose([transforms.ToTensor()])\n",
    "\n",
    "for image_file in image_files:\n",
    "    print('image:', image_file)\n",
    "    image = Image.open(image_file).convert(\"RGB\")\n",
    "    image = preprocess(image)\n",
    "    # print('image shape:', image.shape)\n",
    "    \n",
    "    transform = transforms.Compose([transforms.Resize((image.shape[1], image.shape[2]))])\n",
    "    \n",
    "    target_file = os.path.join(target_folder, os.path.basename(image_file))\n",
    "    if os.path.exists(target_file):\n",
    "        target_image = Image.open(target_file).convert(\"RGB\")\n",
    "        target_image = transform(target_image)\n",
    "        \n",
    "        target_image = preprocess(target_image)\n",
    "        image = image.unsqueeze(0)  # 차원 추가\n",
    "        target_image = target_image.unsqueeze(0)  # 차원 추가\n",
    "        # print('target image shape:', target_image.shape)\n",
    "        \n",
    "        psnr_value = psnr(image, target_image, data_range=1.0)\n",
    "        print('psnr:', psnr_value)\n",
    "        psnr_list.append(psnr_value)\n",
    "        \n",
    "        ssim_value = ssim(image, target_image, data_range=1.0)\n",
    "        print('ssim:', ssim_value)\n",
    "        ssim_list.append(ssim_value)\n",
    "        \n",
    "        print(\"{} - PSNR : {} SSIM: {}\".format(image_file.split('/')[-1],psnr_value,ssim_value))\n",
    "        \n",
    "        \n",
    "\n",
    "psnr_mean = torch.mean(torch.stack(psnr_list))\n",
    "ssim_mean = torch.mean(torch.stack(ssim_list))\n",
    "print(\"Average - PSNR : {} SSIM: {}\".format(psnr_mean.item(),ssim_mean.item()))"
   ]
  },
  {
   "cell_type": "code",
   "execution_count": null,
   "metadata": {},
   "outputs": [],
   "source": []
  }
 ],
 "metadata": {
  "kernelspec": {
   "display_name": "test",
   "language": "python",
   "name": "python3"
  },
  "language_info": {
   "codemirror_mode": {
    "name": "ipython",
    "version": 3
   },
   "file_extension": ".py",
   "mimetype": "text/x-python",
   "name": "python",
   "nbconvert_exporter": "python",
   "pygments_lexer": "ipython3",
   "version": "3.9.5"
  }
 },
 "nbformat": 4,
 "nbformat_minor": 2
}
