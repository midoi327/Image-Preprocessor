{
 "cells": [
  {
   "cell_type": "code",
   "execution_count": 7,
   "metadata": {},
   "outputs": [
    {
     "name": "stdout",
     "output_type": "stream",
     "text": [
      "test\\2_img_.png - PSNR : 24.50922966003418 SSIM: 0.9293501973152161\n",
      "test\\im_f8_.jpg - PSNR : 16.308677673339844 SSIM: 0.9311525225639343\n",
      "test\\im_f9_.jpg - PSNR : 18.857975006103516 SSIM: 0.8811513781547546\n",
      "Average - PSNR : 19.8919620513916 SSIM: 0.913884699344635\n"
     ]
    }
   ],
   "source": [
    "import os\n",
    "import torch\n",
    "import torch.nn as nn\n",
    "from PIL import Image\n",
    "from torchvision import transforms\n",
    "from piq import ssim\n",
    "\n",
    "\n",
    "def psnr(input, target, data_range=1.0):\n",
    "    mse = torch.mean((input - target) ** 2)\n",
    "    if mse == 0:\n",
    "        return float('inf')\n",
    "    return 10 * torch.log10((data_range ** 2) / mse)\n",
    "\n",
    "image_folder = 'C:/Users/piai/Desktop/Domestic/retinex_GAN/input/test'\n",
    "target_folder = 'C:/Users/piai/Desktop/Domestic/retinex_GAN/output_result/test' \n",
    "\n",
    "image_files = [os.path.join(image_folder, file) \n",
    "               for file in os.listdir(image_folder) \n",
    "               if file.lower().endswith(('.png', '.jpg', '.jpeg', '.bmp'))]\n",
    "\n",
    "psnr_list = []\n",
    "ssim_list = []\n",
    "\n",
    "preprocess = transforms.Compose([transforms.ToTensor()])\n",
    "\n",
    "\n",
    "for image_file in image_files:\n",
    "    image = Image.open(image_file).convert(\"RGB\")\n",
    "    image = preprocess(image)\n",
    "    target_file = os.path.join(target_folder, os.path.basename(image_file))\n",
    "    if os.path.exists(target_file):\n",
    "        target_image = Image.open(target_file).convert(\"RGB\")\n",
    "        target_image = preprocess(target_image)\n",
    "        image = image.unsqueeze(0)  # 차원 추가\n",
    "        target_image = target_image.unsqueeze(0)  # 차원 추가\n",
    "        psnr_value = psnr(image, target_image, data_range=1.0)\n",
    "        psnr_list.append(psnr_value)\n",
    "        ssim_value = ssim(image, target_image, data_range=1.0)\n",
    "        ssim_list.append(ssim_value)\n",
    "        print(\"{} - PSNR : {} SSIM: {}\".format(image_file.split('/')[-1],psnr_value,ssim_value))\n",
    "        \n",
    "psnr_mean = torch.mean(torch.stack(psnr_list))\n",
    "ssim_mean = torch.mean(torch.stack(ssim_list))\n",
    "print(\"Average - PSNR : {} SSIM: {}\".format(psnr_mean.item(),ssim_mean.item()))\n"
   ]
  },
  {
   "cell_type": "code",
   "execution_count": null,
   "metadata": {},
   "outputs": [],
   "source": []
  }
 ],
 "metadata": {
  "kernelspec": {
   "display_name": "test",
   "language": "python",
   "name": "python3"
  },
  "language_info": {
   "codemirror_mode": {
    "name": "ipython",
    "version": 3
   },
   "file_extension": ".py",
   "mimetype": "text/x-python",
   "name": "python",
   "nbconvert_exporter": "python",
   "pygments_lexer": "ipython3",
   "version": "3.8.18"
  }
 },
 "nbformat": 4,
 "nbformat_minor": 2
}
